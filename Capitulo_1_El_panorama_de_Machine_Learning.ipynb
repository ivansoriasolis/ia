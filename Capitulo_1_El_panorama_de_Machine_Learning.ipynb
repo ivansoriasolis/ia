{
  "nbformat": 4,
  "nbformat_minor": 0,
  "metadata": {
    "colab": {
      "name": "Capitulo 1 - El panorama de Machine Learning.ipynb",
      "provenance": [],
      "collapsed_sections": [],
      "authorship_tag": "ABX9TyP7NnjnCTKaRIgkqRxQkmck",
      "include_colab_link": true
    },
    "kernelspec": {
      "name": "python3",
      "display_name": "Python 3"
    },
    "language_info": {
      "name": "python"
    }
  },
  "cells": [
    {
      "cell_type": "markdown",
      "metadata": {
        "id": "view-in-github",
        "colab_type": "text"
      },
      "source": [
        "<a href=\"https://colab.research.google.com/github/ivansoriasolis/ia/blob/master/Capitulo_1_El_panorama_de_Machine_Learning.ipynb\" target=\"_parent\"><img src=\"https://colab.research.google.com/assets/colab-badge.svg\" alt=\"Open In Colab\"/></a>"
      ]
    },
    {
      "cell_type": "markdown",
      "source": [
        "# Ejemplo"
      ],
      "metadata": {
        "id": "A8afMUTxw34Z"
      }
    },
    {
      "cell_type": "markdown",
      "source": [
        "Cargamos los datos de GDP per capita"
      ],
      "metadata": {
        "id": "5bkMmRBiwsup"
      }
    },
    {
      "cell_type": "code",
      "source": [
        "import urllib.request\n",
        "urllib.request.urlretrieve(\"https://raw.githubusercontent.com/ivansoriasolis/ia/master/01/gdp_per_capita.csv\", \"gdp_per_capita.csv\")\n",
        "urllib.request.urlretrieve(\"https://raw.githubusercontent.com/ivansoriasolis/ia/master/01/oecd_bli_2015.csv\", \"oecd_bli_2015.csv\")"
      ],
      "metadata": {
        "id": "3KF5mNShtL1f",
        "colab": {
          "base_uri": "https://localhost:8080/"
        },
        "outputId": "95730ea3-e512-4c3b-bd85-728cc5fcb4a9"
      },
      "execution_count": 63,
      "outputs": [
        {
          "output_type": "execute_result",
          "data": {
            "text/plain": [
              "('oecd_bli_2015.csv', <http.client.HTTPMessage at 0x7f102a48a5d0>)"
            ]
          },
          "metadata": {},
          "execution_count": 63
        }
      ]
    },
    {
      "cell_type": "code",
      "execution_count": 88,
      "metadata": {
        "id": "bZcKoggC-Fjd",
        "colab": {
          "base_uri": "https://localhost:8080/",
          "height": 296
        },
        "outputId": "764cef2f-4a1b-45dd-d667-d53ed4bf636a"
      },
      "outputs": [
        {
          "output_type": "display_data",
          "data": {
            "image/png": "[encoded data removed]",
            "text/plain": [
              "<Figure size 432x288 with 1 Axes>"
            ]
          },
          "metadata": {
            "needs_background": "light"
          }
        },
        {
          "output_type": "stream",
          "name": "stdout",
          "text": [
            "[[6.28653637]]\n"
          ]
        }
      ],
      "source": [
        "# -*- coding: utf-8 -*-\n",
        "\"\"\"\n",
        "Created on Mon Feb 28 18:28:38 2022\n",
        "\n",
        "@author: IVAN\n",
        "\"\"\"\n",
        "import matplotlib.pyplot as plt\n",
        "import numpy as np\n",
        "import pandas as pd\n",
        "import sklearn.linear_model\n",
        "\n",
        "# Cargando la data data\n",
        "oecd_bli = pd.read_csv(\"oecd_bli_2015.csv\", thousands=',')\n",
        "gdp_per_capita = pd.read_csv(\"gdp_per_capita.csv\",thousands=',',delimiter='\\t',\n",
        "                             encoding='latin1', na_values=\"n/a\")\n",
        "\n",
        "def prepare_country_stats(oecd_bli, gdp_per_capita):\n",
        "    ''' Acomoda los datos para preparar el conjunto de entrenamiento  '''\n",
        "    oecd_bli = oecd_bli[oecd_bli[\"INEQUALITY\"]==\"TOT\"]\n",
        "    oecd_bli = oecd_bli.pivot(index=\"Country\", columns=\"Indicator\", values=\"Value\")\n",
        "    gdp_per_capita.rename(columns={\"2015\": \"GDP per capita\"}, inplace=True)\n",
        "    gdp_per_capita.set_index(\"Country\", inplace=True)\n",
        "    full_country_stats = pd.merge(left=oecd_bli, right=gdp_per_capita,\n",
        "                                  left_index=True, right_index=True)\n",
        "    full_country_stats.sort_values(by=\"GDP per capita\", inplace=True)\n",
        "    remove_indices = [0, 1, 6, 8, 33, 34, 35]\n",
        "    keep_indices = list(set(range(36)) - set(remove_indices))\n",
        "    return full_country_stats[[\"GDP per capita\", 'Life satisfaction']]#.iloc[keep_indices]\n",
        "\n",
        "# Preparando los datos\n",
        "country_stats = prepare_country_stats(oecd_bli, gdp_per_capita)\n",
        "X = np.c_[country_stats[\"GDP per capita\"]]\n",
        "y = np.c_[country_stats[\"Life satisfaction\"]]\n",
        "\n",
        "# Visualizando la data\n",
        "country_stats.plot(kind='scatter', x=\"GDP per capita\", y='Life satisfaction')\n",
        "plt.show()\n",
        "\n",
        "# Seleccionar un modelo lineal\n",
        "model = sklearn.linear_model.LinearRegression()\n",
        "\n",
        "# Entrenando el modelo\n",
        "model.fit(X, y)\n",
        "\n",
        "# Haciendo una predicción para Chipre\n",
        "X_new = [[22587]]  # GDP de Chipre\n",
        "print(model.predict(X_new)) # salida [[ 5.96242338]]"
      ]
    },
    {
      "cell_type": "markdown",
      "source": [
        "Haga una predicción para Eslovenia (GDP = $20,732)"
      ],
      "metadata": {
        "id": "2ULFW4pj2rp6"
      }
    },
    {
      "cell_type": "code",
      "source": [
        "# Haciendo una predicción para Eslovenia\n",
        "X_new = [[20732]]  # GDP de Eslovenia\n",
        "print(model.predict(X_new)) # salida [[ 5.87131422]]"
      ],
      "metadata": {
        "id": "old2dRxa313p",
        "colab": {
          "base_uri": "https://localhost:8080/"
        },
        "outputId": "b9042ed8-95bf-4f93-cedf-7e9b0f7da564"
      },
      "execution_count": 66,
      "outputs": [
        {
          "output_type": "stream",
          "name": "stdout",
          "text": [
            "[[6.24354241]]\n"
          ]
        }
      ]
    },
    {
      "cell_type": "markdown",
      "source": [
        "Reemplazando la regresión lineal por k-nearest neigbors"
      ],
      "metadata": {
        "id": "4e7iTjhB1-n8"
      }
    },
    {
      "cell_type": "code",
      "source": [
        "# Select a 3-Nearest Neighbors regression model\n",
        "import sklearn.neighbors\n",
        "model1 = sklearn.neighbors.KNeighborsRegressor(n_neighbors=3)\n",
        "\n",
        "# Entrenando el modelo\n",
        "model1.fit(X,y)\n",
        "\n",
        "# Haciendo una predicción para Chipre\n",
        "X_new = [[20732]]  # GDP de Chipre\n",
        "print(model1.predict(X_new)) # salida [[5.2]]"
      ],
      "metadata": {
        "id": "AvDb6TTR2eGT",
        "colab": {
          "base_uri": "https://localhost:8080/"
        },
        "outputId": "16f86066-e7c1-46a6-c8cc-e68f7c631f0d"
      },
      "execution_count": 67,
      "outputs": [
        {
          "output_type": "stream",
          "name": "stdout",
          "text": [
            "[[5.2]]\n"
          ]
        }
      ]
    }
  ]
}